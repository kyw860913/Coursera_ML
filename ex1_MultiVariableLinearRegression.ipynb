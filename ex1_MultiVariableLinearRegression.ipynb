{
 "cells": [
  {
   "cell_type": "code",
   "execution_count": 1,
   "metadata": {
    "collapsed": true
   },
   "outputs": [],
   "source": [
    "import pandas as pd\n",
    "import numpy as np\n",
    "import matplotlib.pyplot as plt\n",
    "import scipy.optimize as op"
   ]
  },
  {
   "cell_type": "code",
   "execution_count": 2,
   "metadata": {},
   "outputs": [],
   "source": [
    "df = pd.read_csv('data/ex1data2.txt', header=None, usecols=[0,1,2])\n",
    "X1 = df.values[:, 0:1]\n",
    "X2 = df.values[:, 1:2]\n",
    "Y = df.values[:, 2:3]\n",
    "\n",
    "meanX1 = np.mean(X1)\n",
    "meanX2 = np.mean(X2)\n",
    "meanY = np.mean(Y)\n",
    "\n",
    "X1 = X1/meanX1\n",
    "X2 = X2/meanX2\n",
    "Y = Y/meanY\n",
    "\n",
    "nX = np.c_[np.ones(Y.size), X1, X2]"
   ]
  },
  {
   "cell_type": "code",
   "execution_count": 3,
   "metadata": {},
   "outputs": [],
   "source": [
    "#1.Cost Function \n",
    "def computeCost(X, y, theta=[[0],[0],[0]]):\n",
    "    m = y.size\n",
    "    h = X.dot(theta)\n",
    "    J = 1/(2*m)*np.sum(np.square(h-y))\n",
    "    return(J)"
   ]
  },
  {
   "cell_type": "code",
   "execution_count": 4,
   "metadata": {},
   "outputs": [
    {
     "data": {
      "text/plain": [
       "0.5660261243193423"
      ]
     },
     "execution_count": 4,
     "metadata": {},
     "output_type": "execute_result"
    }
   ],
   "source": [
    "computeCost(nX, Y)"
   ]
  },
  {
   "cell_type": "code",
   "execution_count": 5,
   "metadata": {},
   "outputs": [],
   "source": [
    "#2.Gradient Descent\n",
    "def gradientDescent(X, Y, theta=[[0],[0],[0]], alpha=0.01, num_iters=1500):\n",
    "    m = Y.size\n",
    "    J_history = np.zeros(num_iters)\n",
    "    \n",
    "    for i in range(num_iters):\n",
    "        h = X.dot(theta)\n",
    "        theta = theta - alpha*(1/m)*(X.T.dot(h-Y))\n",
    "        J_history[i] = computeCost(X, Y, theta)\n",
    "    return(theta, J_history)"
   ]
  },
  {
   "cell_type": "code",
   "execution_count": 6,
   "metadata": {},
   "outputs": [
    {
     "data": {
      "text/plain": [
       "[<matplotlib.lines.Line2D at 0xc520590>]"
      ]
     },
     "execution_count": 6,
     "metadata": {},
     "output_type": "execute_result"
    },
    {
     "data": {
      "image/png": "[encoded data removed]",
      "text/plain": [
       "<Figure size 432x288 with 1 Axes>"
      ]
     },
     "metadata": {},
     "output_type": "display_data"
    }
   ],
   "source": [
    "#3. Calculate Optimized Theta\n",
    "(theta, J) = gradientDescent(nX, Y)\n",
    "plt.plot(J, c='red')"
   ]
  },
  {
   "cell_type": "code",
   "execution_count": 7,
   "metadata": {},
   "outputs": [
    {
     "name": "stdout",
     "output_type": "stream",
     "text": [
      "Estimated Price : [300021.71599885]\n"
     ]
    }
   ],
   "source": [
    "#4. Prediction - price prediction for a 1650-square-foot house with 3 bedrooms\n",
    "def calcEstPrice(size, bedrooms) : \n",
    "    p = theta[0] + theta[1] * (size/meanX1) + theta[2] * (bedrooms/meanX2)\n",
    "    return p * meanY \n",
    "\n",
    "print('Estimated Price :', calcEstPrice(1650, 3))"
   ]
  }
 ],
 "metadata": {
  "kernelspec": {
   "display_name": "Python 2",
   "language": "python",
   "name": "python2"
  },
  "language_info": {
   "codemirror_mode": {
    "name": "ipython",
    "version": 2
   },
   "file_extension": ".py",
   "mimetype": "text/x-python",
   "name": "python",
   "nbconvert_exporter": "python",
   "pygments_lexer": "ipython2",
   "version": "2.7.6"
  }
 },
 "nbformat": 4,
 "nbformat_minor": 0
}
