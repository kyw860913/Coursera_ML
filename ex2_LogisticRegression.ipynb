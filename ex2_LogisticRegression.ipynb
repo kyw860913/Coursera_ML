{
 "cells": [
  {
   "cell_type": "code",
   "execution_count": 1,
   "metadata": {
    "collapsed": true
   },
   "outputs": [],
   "source": [
    "import pandas as pd\n",
    "import numpy as np\n",
    "import matplotlib.pyplot as plt\n",
    "import scipy.optimize as op\n",
    "\n",
    "from sklearn.preprocessing import PolynomialFeatures"
   ]
  },
  {
   "cell_type": "code",
   "execution_count": 2,
   "metadata": {},
   "outputs": [],
   "source": [
    "data = pd.read_csv('data\\ex2data1.txt')\n",
    "exam1 = data.values[:, 0:1]\n",
    "exam2 = data.values[:, 1:2]\n",
    "admit = data.values[:, 2:3]\n",
    "\n",
    "X = data.values[:, 0:2]"
   ]
  },
  {
   "cell_type": "code",
   "execution_count": 3,
   "metadata": {},
   "outputs": [],
   "source": [
    "#1. Sigmoid Function \n",
    "def sigmoid(z) : \n",
    "    return 1 / (1 + np.exp(-z))"
   ]
  },
  {
   "cell_type": "code",
   "execution_count": 4,
   "metadata": {},
   "outputs": [
    {
     "name": "stdout",
     "output_type": "stream",
     "text": [
      "[[0.69314718]]\n"
     ]
    }
   ],
   "source": [
    "#2. Cost Function\n",
    "def computeCost(theta, X, Y): \n",
    "    m = Y.size\n",
    "    h = sigmoid(X.dot(theta))\n",
    "    J = -1/m*((Y.T).dot(np.log(h)) + (1-Y.T).dot(np.log(1-h))) \n",
    "    if np.isnan(J[0]):\n",
    "        return(np.inf)\n",
    "    return J\n",
    "\n",
    "nX = np.c_[np.ones(X.shape[0]), X]\n",
    "theta = np.zeros((nX.shape[1],1))\n",
    "cost = computeCost(theta, nX, admit)\n",
    "print(cost)"
   ]
  },
  {
   "cell_type": "code",
   "execution_count": 42,
   "metadata": {},
   "outputs": [
    {
     "data": {
      "text/plain": [
       "[<matplotlib.lines.Line2D at 0xfcc4750>]"
      ]
     },
     "execution_count": 42,
     "metadata": {},
     "output_type": "execute_result"
    },
    {
     "data": {
      "image/png": "[encoded data removed]",
      "text/plain": [
       "<Figure size 432x288 with 1 Axes>"
      ]
     },
     "metadata": {},
     "output_type": "display_data"
    }
   ],
   "source": [
    "#3. Gradient Descent\n",
    "def gradientDescent(theta, X, Y, alpha=0.0002, num_iters=1000000):\n",
    "    m = Y.size\n",
    "    h = sigmoid(X.dot(theta))\n",
    "    J_history = np.zeros(num_iters)\n",
    "\n",
    "    for i in range(num_iters):\n",
    "        h = X.dot(theta)\n",
    "        #theta = theta - alpha*(h-Y).T.dot(X).T  #이 부분이 핵심인데... 이제 맞나?\n",
    "        theta = theta - alpha*(1/m)*X.T.dot(h-Y)\n",
    "        J_history[i] = computeCost(theta, X, Y)\n",
    "    return(theta, J_history)    \n",
    "\n",
    "\n",
    "#4. Calculate Optimized Theta\n",
    "(opttheta, costhistory) = gradientDescent(theta, nX, admit)\n",
    "\n",
    "plt.plot(costhistory, c='red')"
   ]
  },
  {
   "cell_type": "code",
   "execution_count": 43,
   "metadata": {},
   "outputs": [
    {
     "name": "stdout",
     "output_type": "stream",
     "text": [
      "65\nTrain accuracy 65.65656565656566%\n"
     ]
    }
   ],
   "source": [
    "#Predict from New Data\n",
    "def predict(theta, X, threshold=0.5):\n",
    "    p = sigmoid(X.dot(theta)) >= threshold\n",
    "    return(p.astype('int'))\n",
    "\n",
    "p = predict(opttheta, nX) \n",
    "#print(p)\n",
    "pY = np.c_[p,admit]\n",
    "sum = 0\n",
    "for i in range(admit.size):\n",
    "    if p[i] == admit[i]:\n",
    "        sum += 1\n",
    "        \n",
    "\n",
    "print(sum)\n",
    "print('Train accuracy {}%'.format((sum/p.size)*100))"
   ]
  },
  {
   "cell_type": "code",
   "execution_count": 45,
   "metadata": {},
   "outputs": [],
   "source": [
    "def plotData(data, label_x, label_y, label_pos, label_neg, axes=None):\n",
    "    # Get indexes for class 0 and class 1\n",
    "    neg = data[:,2] == 0\n",
    "    pos = data[:,2] == 1\n",
    "    \n",
    "    # If no specific axes object has been passed, get the current axes.\n",
    "    if axes == None:\n",
    "        axes = plt.gca()\n",
    "    axes.scatter(data[pos][:,0], data[pos][:,1], marker='+', c='k', s=60, linewidth=2, label=label_pos)\n",
    "    axes.scatter(data[neg][:,0], data[neg][:,1], c='y', s=60, label=label_neg)\n",
    "    axes.set_xlabel(label_x)\n",
    "    axes.set_ylabel(label_y)\n",
    "    axes.legend(frameon= True, fancybox = True);"
   ]
  },
  {
   "cell_type": "code",
   "execution_count": 48,
   "metadata": {},
   "outputs": [
    {
     "data": {
      "image/png": "[encoded data removed]",
      "text/plain": [
       "<Figure size 432x288 with 1 Axes>"
      ]
     },
     "metadata": {},
     "output_type": "display_data"
    }
   ],
   "source": [
    "plt.scatter(45, 85, s=60, c='r', marker='v', label='(45, 85)')\n",
    "data = np.loadtxt('data\\ex2data1.txt', delimiter=',')\n",
    "\n",
    "plotData(data, 'Exam 1 score', 'Exam 2 score', 'Admitted', 'Not admitted')\n",
    "x1_min, x1_max = X[:,1].min(), X[:,1].max(),\n",
    "x2_min, x2_max = nX[:,2].min(), nX[:,2].max(),\n",
    "xx1, xx2 = np.meshgrid(np.linspace(x1_min, x1_max), np.linspace(x2_min, x2_max))\n",
    "h = sigmoid(np.c_[np.ones((xx1.ravel().shape[0],1)), xx1.ravel(), xx2.ravel()].dot(opttheta))\n",
    "h = h.reshape(xx1.shape)\n",
    "plt.contour(xx1, xx2, h, [0.5], linewidths=1, colors='b');"
   ]
  }
 ],
 "metadata": {
  "kernelspec": {
   "display_name": "Python 2",
   "language": "python",
   "name": "python2"
  },
  "language_info": {
   "codemirror_mode": {
    "name": "ipython",
    "version": 2
   },
   "file_extension": ".py",
   "mimetype": "text/x-python",
   "name": "python",
   "nbconvert_exporter": "python",
   "pygments_lexer": "ipython2",
   "version": "2.7.6"
  }
 },
 "nbformat": 4,
 "nbformat_minor": 0
}
